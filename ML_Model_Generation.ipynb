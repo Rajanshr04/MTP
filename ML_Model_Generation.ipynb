{
  "nbformat": 4,
  "nbformat_minor": 0,
  "metadata": {
    "colab": {
      "provenance": [],
      "mount_file_id": "1xYu8e0BWpWsZn2qTJFqBm7geaYtBfnAK",
      "authorship_tag": "ABX9TyMyzjI0u7fxnwbAIp0sqAsx",
      "include_colab_link": true
    },
    "kernelspec": {
      "name": "python3",
      "display_name": "Python 3"
    },
    "language_info": {
      "name": "python"
    }
  },
  "cells": [
    {
      "cell_type": "markdown",
      "metadata": {
        "id": "view-in-github",
        "colab_type": "text"
      },
      "source": [
        "<a href=\"https://colab.research.google.com/github/Rajanshr04/MTP/blob/main/ML_Model_Generation.ipynb\" target=\"_parent\"><img src=\"https://colab.research.google.com/assets/colab-badge.svg\" alt=\"Open In Colab\"/></a>"
      ]
    },
    {
      "cell_type": "code",
      "execution_count": null,
      "metadata": {
        "colab": {
          "base_uri": "https://localhost:8080/"
        },
        "id": "QFvy1M_3a59L",
        "outputId": "b6333d4f-1c19-4dde-c8e9-b5403d33378d"
      },
      "outputs": [
        {
          "output_type": "stream",
          "name": "stdout",
          "text": [
            "Energy Model Test R²: 0.999, RMSE: 12976.26\n",
            "Unmet Hours Model Test R²: 0.999, RMSE: 6.09\n",
            "\n",
            "Sample prediction outputs:\n",
            "Energy Model Prediction Sample: [5313580.5]\n",
            "Unmet Hours Model Prediction Sample: [3980.4536]\n"
          ]
        }
      ],
      "source": [
        "# Data Preprocessing and Surrogate Model Training Script\n",
        "\n",
        "import pandas as pd\n",
        "import numpy as np\n",
        "from sklearn.model_selection import train_test_split, cross_val_score\n",
        "from sklearn.metrics import r2_score, mean_squared_error, root_mean_squared_error\n",
        "from sklearn.preprocessing import MinMaxScaler\n",
        "from xgboost import XGBRegressor\n",
        "import joblib\n",
        "\n",
        "# Load the dataset\n",
        "data = pd.read_csv(\"/content/Dataset-HRB-8hrs.csv\")  # Adjust path as needed in Google Colab\n",
        "\n",
        "# Define input and output columns\n",
        "input_columns = [\"COOL_SETPOINTS\", \"ROOF_R_LEVELS\", \"WALL_R_LEVELS\", \"WIN_U_LEVELS\", \"COP_LEVELS\"]\n",
        "target_energy = \"annual_energy_kwh\"\n",
        "target_unmet = \"unmet_hours\"\n",
        "\n",
        "X = data[input_columns].copy()\n",
        "y_energy = data[target_energy].copy()\n",
        "y_unmet = data[target_unmet].copy()\n",
        "\n",
        "# Normalize input features\n",
        "scaler = MinMaxScaler()\n",
        "X_scaled = scaler.fit_transform(X)\n",
        "\n",
        "# Save the scaler for use during optimization\n",
        "dump_scaler = joblib.dump(scaler, \"scaler.pkl\")\n",
        "\n",
        "# Split the data for evaluation\n",
        "X_train, X_test, y_energy_train, y_energy_test = train_test_split(X_scaled, y_energy, test_size=0.2, random_state=42)\n",
        "X_train_u, X_test_u, y_unmet_train, y_unmet_test = train_test_split(X_scaled, y_unmet, test_size=0.2, random_state=42)\n",
        "\n",
        "# Train XGBoost model for energy\n",
        "model_energy = XGBRegressor(n_estimators=100, learning_rate=0.1, max_depth=5, random_state=42)\n",
        "model_energy.fit(X_train, y_energy_train)\n",
        "\n",
        "# Save the energy model\n",
        "joblib.dump(model_energy, \"best_energy_model.pkl\")\n",
        "\n",
        "# Train XGBoost model for unmet hours\n",
        "model_unmet = XGBRegressor(n_estimators=100, learning_rate=0.1, max_depth=5, random_state=42)\n",
        "model_unmet.fit(X_train_u, y_unmet_train)\n",
        "\n",
        "# Save the unmet hours model\n",
        "joblib.dump(model_unmet, \"best_unmet_model.pkl\")\n",
        "\n",
        "# Evaluate models\n",
        "# Evaluate models\n",
        "for model, y_true, y_pred, label in [\n",
        "    (model_energy, y_energy_test, model_energy.predict(X_test), \"Energy\"),\n",
        "    (model_unmet, y_unmet_test, model_unmet.predict(X_test_u), \"Unmet Hours\")\n",
        "]:\n",
        "    # Ensure correct indentation for all lines inside the loop\n",
        "    r2 = r2_score(y_true, y_pred)\n",
        "    # Use root_mean_squared_error for RMSE calculation\n",
        "    rmse = root_mean_squared_error(y_true, y_pred)\n",
        "    print(f\"{label} Model Test R²: {r2:.3f}, RMSE: {rmse:.2f}\")\n",
        "\n",
        "\n",
        "# Test cases (if dataset is loaded successfully)\n",
        "print(\"\\nSample prediction outputs:\")\n",
        "print(\"Energy Model Prediction Sample:\", model_energy.predict(X_test[:1]))\n",
        "print(\"Unmet Hours Model Prediction Sample:\", model_unmet.predict(X_test_u[:1]))\n",
        "\n"
      ]
    }
  ]
}